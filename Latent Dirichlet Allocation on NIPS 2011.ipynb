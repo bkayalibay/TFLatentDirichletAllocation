{
 "cells": [
  {
   "cell_type": "code",
   "execution_count": 1,
   "metadata": {
    "collapsed": false
   },
   "outputs": [
    {
     "name": "stderr",
     "output_type": "stream",
     "text": [
      "/home/bkayalibay/anaconda2/envs/lavastore/lib/python3.6/importlib/_bootstrap.py:205: RuntimeWarning: compiletime version 3.5 of module 'tensorflow.python.framework.fast_tensor_util' does not match runtime version 3.6\n",
      "  return f(*args, **kwds)\n"
     ]
    }
   ],
   "source": [
    "import lda\n",
    "import utils"
   ]
  },
  {
   "cell_type": "markdown",
   "metadata": {},
   "source": [
    "## Load data"
   ]
  },
  {
   "cell_type": "code",
   "execution_count": 2,
   "metadata": {
    "collapsed": true
   },
   "outputs": [],
   "source": [
    "data_dir = '/home/bkayalibay/Code/mlearning/self-study/lda/data'"
   ]
  },
  {
   "cell_type": "code",
   "execution_count": 3,
   "metadata": {
    "collapsed": true
   },
   "outputs": [],
   "source": [
    "documents, vocabulary = utils.load_data(data_dir)"
   ]
  },
  {
   "cell_type": "markdown",
   "metadata": {},
   "source": [
    "## Initialize LDA"
   ]
  },
  {
   "cell_type": "code",
   "execution_count": 4,
   "metadata": {
    "collapsed": true
   },
   "outputs": [],
   "source": [
    "D = len(documents)\n",
    "K = 20\n",
    "V = len(vocabulary)"
   ]
  },
  {
   "cell_type": "code",
   "execution_count": 5,
   "metadata": {
    "collapsed": true
   },
   "outputs": [],
   "source": [
    "import importlib\n",
    "importlib.reload(lda)\n",
    "model = lda.LDA(n_docs=D, n_topics=K, n_words=V)"
   ]
  },
  {
   "cell_type": "markdown",
   "metadata": {},
   "source": [
    "## Fit to data"
   ]
  },
  {
   "cell_type": "code",
   "execution_count": 6,
   "metadata": {
    "collapsed": true
   },
   "outputs": [],
   "source": [
    "n_update = 100\n",
    "batch_size = 1\n",
    "max_local_steps = 100"
   ]
  },
  {
   "cell_type": "code",
   "execution_count": 7,
   "metadata": {
    "collapsed": false
   },
   "outputs": [
    {
     "name": "stderr",
     "output_type": "stream",
     "text": [
      "100%|██████████| 100/100 [00:27<00:00,  3.97it/s]\n"
     ]
    }
   ],
   "source": [
    "model.variational_em(\n",
    "    data=documents, n_update=n_update,\n",
    "    batch_size=batch_size,\n",
    "    max_local_steps=max_local_steps,\n",
    "    use_tqdm=True)"
   ]
  },
  {
   "cell_type": "markdown",
   "metadata": {},
   "source": [
    "## Examine topics"
   ]
  },
  {
   "cell_type": "code",
   "execution_count": 8,
   "metadata": {
    "collapsed": false
   },
   "outputs": [
    {
     "name": "stdout",
     "output_type": "stream",
     "text": [
      "\n",
      "Topic 1: dimension case loss online programming paper thus also input let\n",
      "Topic 2: words label categories histogram annotation shape evaluation framework annotations appearance\n",
      "Topic 3: analysis problems parameter much objective search since applied step formulation\n",
      "Topic 4: function given value functions kernel section model proposed using measure\n",
      "Topic 5: features information training images scene datasets results class visual cost\n",
      "Topic 6: algorithm set image based performance use example classification random term\n",
      "Topic 7: fig minimum part minimization pose bin branch nature initial decreasing\n",
      "Topic 8: model learning process models structure information based task experiments data\n",
      "Topic 9: function results sparse set problem result learning first thus space\n",
      "Topic 10: show number error learning feature clustering using representation new properties\n",
      "Topic 11: data models input topic image learning results features labels based\n",
      "Topic 12: noise data bound random case machine using probability problems real\n",
      "Topic 13: vector different prior multiple gradient recognition space average natural standard\n",
      "Topic 14: method parameters group tasks multi gradient local feature compared figure\n",
      "Topic 15: let problem probability sequence log lemma theorem condition norm bounded\n",
      "Topic 16: state approach object using work least large level figure analysis\n",
      "Topic 17: also distribution variables used figure states better specific many global\n",
      "Topic 18: matrix data algorithms algorithm linear methods well order use similar\n",
      "Topic 19: active according weights represent optimal step given input section let\n",
      "Topic 20: optimization point given test case number may using methods model\n"
     ]
    }
   ],
   "source": [
    "model.list_topics(vocabulary)"
   ]
  },
  {
   "cell_type": "code",
   "execution_count": null,
   "metadata": {
    "collapsed": true
   },
   "outputs": [],
   "source": []
  }
 ],
 "metadata": {
  "kernelspec": {
   "display_name": "Python (lv)",
   "language": "python",
   "name": "lavastore"
  },
  "language_info": {
   "codemirror_mode": {
    "name": "ipython",
    "version": 3
   },
   "file_extension": ".py",
   "mimetype": "text/x-python",
   "name": "python",
   "nbconvert_exporter": "python",
   "pygments_lexer": "ipython3",
   "version": "3.6.1"
  },
  "toc": {
   "nav_menu": {},
   "number_sections": true,
   "sideBar": true,
   "skip_h1_title": false,
   "toc_cell": false,
   "toc_position": {},
   "toc_section_display": "block",
   "toc_window_display": false
  }
 },
 "nbformat": 4,
 "nbformat_minor": 2
}
