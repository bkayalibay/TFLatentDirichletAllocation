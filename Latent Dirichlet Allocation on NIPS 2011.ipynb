{
 "cells": [
  {
   "cell_type": "code",
   "execution_count": 1,
   "metadata": {},
   "outputs": [
    {
     "name": "stderr",
     "output_type": "stream",
     "text": [
      "/home/bkayalibay/anaconda2/envs/lavastore/lib/python3.6/importlib/_bootstrap.py:205: RuntimeWarning: compiletime version 3.5 of module 'tensorflow.python.framework.fast_tensor_util' does not match runtime version 3.6\n",
      "  return f(*args, **kwds)\n"
     ]
    }
   ],
   "source": [
    "import lda\n",
    "import utils"
   ]
  },
  {
   "cell_type": "markdown",
   "metadata": {},
   "source": [
    "## Load data"
   ]
  },
  {
   "cell_type": "code",
   "execution_count": 2,
   "metadata": {
    "collapsed": true
   },
   "outputs": [],
   "source": [
    "data_dir = '/home/bkayalibay/Code/mlearning/self-study/lda/data'"
   ]
  },
  {
   "cell_type": "code",
   "execution_count": 3,
   "metadata": {
    "collapsed": true
   },
   "outputs": [],
   "source": [
    "documents, vocabulary = utils.load_data(data_dir)"
   ]
  },
  {
   "cell_type": "markdown",
   "metadata": {},
   "source": [
    "## Initialize LDA"
   ]
  },
  {
   "cell_type": "code",
   "execution_count": 4,
   "metadata": {
    "collapsed": true
   },
   "outputs": [],
   "source": [
    "D = len(documents)\n",
    "K = 20\n",
    "V = len(vocabulary)"
   ]
  },
  {
   "cell_type": "code",
   "execution_count": 5,
   "metadata": {
    "collapsed": true
   },
   "outputs": [],
   "source": [
    "import importlib\n",
    "importlib.reload(lda)\n",
    "model = lda.LDA(n_docs=D, n_topics=K, n_words=V)"
   ]
  },
  {
   "cell_type": "markdown",
   "metadata": {},
   "source": [
    "## Fit to data"
   ]
  },
  {
   "cell_type": "code",
   "execution_count": 6,
   "metadata": {
    "collapsed": true
   },
   "outputs": [],
   "source": [
    "n_update = 100\n",
    "batch_size = 10\n",
    "local_steps = 100"
   ]
  },
  {
   "cell_type": "code",
   "execution_count": 7,
   "metadata": {},
   "outputs": [
    {
     "name": "stderr",
     "output_type": "stream",
     "text": [
      "100%|██████████| 100/100 [05:15<00:00,  3.32s/it]\n"
     ]
    }
   ],
   "source": [
    "model.variational_em(\n",
    "    data=documents, n_update=n_update,\n",
    "    batch_size=batch_size,\n",
    "    local_steps=local_steps,\n",
    "    use_tqdm=True)"
   ]
  },
  {
   "cell_type": "markdown",
   "metadata": {},
   "source": [
    "## Examine topics"
   ]
  },
  {
   "cell_type": "code",
   "execution_count": 8,
   "metadata": {},
   "outputs": [
    {
     "name": "stdout",
     "output_type": "stream",
     "text": [
      "\n",
      "Topic 1\n",
      "---------------\n",
      "logistic\n",
      "theorem\n",
      "online\n",
      "prediction\n",
      "margin\n",
      "convergence\n",
      "stochastic\n",
      "gradient\n",
      "convex\n",
      "loss\n",
      "\n",
      "Topic 2\n",
      "---------------\n",
      "proposed\n",
      "problem\n",
      "large\n",
      "table\n",
      "weight\n",
      "results\n",
      "class\n",
      "set\n",
      "object\n",
      "training\n",
      "\n",
      "Topic 3\n",
      "---------------\n",
      "data\n",
      "linear\n",
      "true\n",
      "based\n",
      "experiments\n",
      "class\n",
      "first\n",
      "approach\n",
      "samples\n",
      "norm\n",
      "\n",
      "Topic 4\n",
      "---------------\n",
      "given\n",
      "based\n",
      "context\n",
      "well\n",
      "labels\n",
      "features\n",
      "output\n",
      "random\n",
      "node\n",
      "log\n",
      "\n",
      "Topic 5\n",
      "---------------\n",
      "error\n",
      "number\n",
      "target\n",
      "sets\n",
      "graph\n",
      "given\n",
      "domain\n",
      "bound\n",
      "algorithms\n",
      "algorithm\n",
      "\n",
      "Topic 6\n",
      "---------------\n",
      "system\n",
      "poisson\n",
      "modeling\n",
      "gibbs\n",
      "response\n",
      "given\n",
      "prior\n",
      "distribution\n",
      "figure\n",
      "model\n",
      "\n",
      "Topic 7\n",
      "---------------\n",
      "weights\n",
      "optimal\n",
      "constraints\n",
      "clustering\n",
      "single\n",
      "methods\n",
      "parameters\n",
      "functions\n",
      "data\n",
      "function\n",
      "\n",
      "Topic 8\n",
      "---------------\n",
      "also\n",
      "systems\n",
      "task\n",
      "classification\n",
      "method\n",
      "new\n",
      "images\n",
      "based\n",
      "use\n",
      "see\n",
      "\n",
      "Topic 9\n",
      "---------------\n",
      "machine\n",
      "used\n",
      "rate\n",
      "many\n",
      "optimization\n",
      "consider\n",
      "results\n",
      "first\n",
      "variables\n",
      "models\n",
      "\n",
      "Topic 10\n",
      "---------------\n",
      "use\n",
      "section\n",
      "kernel\n",
      "sparse\n",
      "probability\n",
      "value\n",
      "time\n",
      "state\n",
      "problem\n",
      "matrix\n",
      "\n",
      "Topic 11\n",
      "---------------\n",
      "solving\n",
      "optimal\n",
      "basis\n",
      "given\n",
      "data\n",
      "vector\n",
      "input\n",
      "solution\n",
      "linear\n",
      "tree\n",
      "\n",
      "Topic 12\n",
      "---------------\n",
      "values\n",
      "posterior\n",
      "dimensional\n",
      "likelihood\n",
      "mean\n",
      "time\n",
      "regression\n",
      "noise\n",
      "gaussian\n",
      "data\n",
      "\n",
      "Topic 13\n",
      "---------------\n",
      "general\n",
      "rank\n",
      "sparse\n",
      "using\n",
      "proof\n",
      "algorithms\n",
      "error\n",
      "distance\n",
      "case\n",
      "set\n",
      "\n",
      "Topic 14\n",
      "---------------\n",
      "setting\n",
      "space\n",
      "actions\n",
      "result\n",
      "set\n",
      "regret\n",
      "show\n",
      "step\n",
      "decision\n",
      "since\n",
      "\n",
      "Topic 15\n",
      "---------------\n",
      "similar\n",
      "space\n",
      "shown\n",
      "graph\n",
      "size\n",
      "performance\n",
      "model\n",
      "using\n",
      "algorithm\n",
      "learning\n",
      "\n",
      "Topic 16\n",
      "---------------\n",
      "given\n",
      "number\n",
      "image\n",
      "graphical\n",
      "bayesian\n",
      "model\n",
      "using\n",
      "inference\n",
      "process\n",
      "features\n",
      "\n",
      "Topic 17\n",
      "---------------\n",
      "variable\n",
      "neuron\n",
      "filter\n",
      "maximum\n",
      "variational\n",
      "error\n",
      "parameters\n",
      "variance\n",
      "neurons\n",
      "latent\n",
      "\n",
      "Topic 18\n",
      "---------------\n",
      "proposed\n",
      "following\n",
      "also\n",
      "information\n",
      "let\n",
      "function\n",
      "feature\n",
      "different\n",
      "number\n",
      "distribution\n",
      "\n",
      "Topic 19\n",
      "---------------\n",
      "used\n",
      "networks\n",
      "categories\n",
      "shows\n",
      "visual\n",
      "dataset\n",
      "set\n",
      "structure\n",
      "number\n",
      "image\n",
      "\n",
      "Topic 20\n",
      "---------------\n",
      "set\n",
      "method\n",
      "figure\n",
      "work\n",
      "case\n",
      "theorem\n",
      "order\n",
      "test\n",
      "also\n",
      "learning\n",
      "\n"
     ]
    }
   ],
   "source": [
    "model.list_topics(vocabulary)"
   ]
  },
  {
   "cell_type": "code",
   "execution_count": null,
   "metadata": {
    "collapsed": true
   },
   "outputs": [],
   "source": []
  }
 ],
 "metadata": {
  "kernelspec": {
   "display_name": "Python (lv)",
   "language": "python",
   "name": "lavastore"
  },
  "language_info": {
   "codemirror_mode": {
    "name": "ipython",
    "version": 3
   },
   "file_extension": ".py",
   "mimetype": "text/x-python",
   "name": "python",
   "nbconvert_exporter": "python",
   "pygments_lexer": "ipython3",
   "version": "3.6.1"
  },
  "toc": {
   "nav_menu": {},
   "number_sections": true,
   "sideBar": true,
   "skip_h1_title": false,
   "toc_cell": false,
   "toc_position": {},
   "toc_section_display": "block",
   "toc_window_display": false
  }
 },
 "nbformat": 4,
 "nbformat_minor": 2
}
