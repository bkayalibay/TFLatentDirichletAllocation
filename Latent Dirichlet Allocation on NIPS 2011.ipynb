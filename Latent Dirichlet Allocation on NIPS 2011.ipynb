{
 "cells": [
  {
   "cell_type": "code",
   "execution_count": 1,
   "metadata": {
    "collapsed": false
   },
   "outputs": [
    {
     "name": "stderr",
     "output_type": "stream",
     "text": [
      "/home/bkayalibay/anaconda2/envs/lavastore/lib/python3.6/importlib/_bootstrap.py:205: RuntimeWarning: compiletime version 3.5 of module 'tensorflow.python.framework.fast_tensor_util' does not match runtime version 3.6\n",
      "  return f(*args, **kwds)\n"
     ]
    }
   ],
   "source": [
    "import lda\n",
    "import utils"
   ]
  },
  {
   "cell_type": "markdown",
   "metadata": {},
   "source": [
    "## Load data"
   ]
  },
  {
   "cell_type": "code",
   "execution_count": 2,
   "metadata": {
    "collapsed": true
   },
   "outputs": [],
   "source": [
    "data_dir = '/home/bkayalibay/Code/mlearning/self-study/lda/data'"
   ]
  },
  {
   "cell_type": "code",
   "execution_count": 3,
   "metadata": {
    "collapsed": false
   },
   "outputs": [],
   "source": [
    "documents, vocabulary = utils.load_data(data_dir)"
   ]
  },
  {
   "cell_type": "markdown",
   "metadata": {},
   "source": [
    "## Initialize LDA"
   ]
  },
  {
   "cell_type": "code",
   "execution_count": 4,
   "metadata": {
    "collapsed": true
   },
   "outputs": [],
   "source": [
    "K = 20"
   ]
  },
  {
   "cell_type": "code",
   "execution_count": 5,
   "metadata": {
    "collapsed": true
   },
   "outputs": [],
   "source": [
    "import importlib\n",
    "importlib.reload(lda)\n",
    "model = lda.LDA(n_topics=K)"
   ]
  },
  {
   "cell_type": "markdown",
   "metadata": {},
   "source": [
    "## Fit to data"
   ]
  },
  {
   "cell_type": "code",
   "execution_count": 6,
   "metadata": {
    "collapsed": true
   },
   "outputs": [],
   "source": [
    "n_update = 100\n",
    "batch_size = 16"
   ]
  },
  {
   "cell_type": "code",
   "execution_count": 7,
   "metadata": {
    "collapsed": false
   },
   "outputs": [
    {
     "name": "stderr",
     "output_type": "stream",
     "text": [
      "100%|██████████| 100/100 [06:39<00:00,  3.99s/it]\n"
     ]
    }
   ],
   "source": [
    "model.fit(\n",
    "    data=documents,\n",
    "    n_update=n_update,\n",
    "    batch_size=batch_size,\n",
    "    use_tqdm=True)"
   ]
  },
  {
   "cell_type": "markdown",
   "metadata": {},
   "source": [
    "## Examine topics"
   ]
  },
  {
   "cell_type": "code",
   "execution_count": 8,
   "metadata": {
    "collapsed": false
   },
   "outputs": [
    {
     "name": "stdout",
     "output_type": "stream",
     "text": [
      "\n",
      "Topic 1: bayesian labels posterior inference different objects parameters functions see mean\n",
      "Topic 2: learning optimization points solution convex defined feature given experiments lemma\n",
      "Topic 3: learning let input examples used best may first show prediction\n",
      "Topic 4: space consider fixed example performance section dataset iteration node simple\n",
      "Topic 5: probability based case data search graph domain nodes problem analysis\n",
      "Topic 6: image set images distance analysis point scene learning high feature\n",
      "Topic 7: models features distribution sparse local regression likelihood target conditional shows\n",
      "Topic 8: model set object variables figure algorithms variance large number given\n",
      "Topic 9: algorithm using latent parameters function number parameter order new variable\n",
      "Topic 10: function algorithm matrix error value action problems optimal gradient norm\n",
      "Topic 11: training performance accuracy given different bias transfer svm order comparison\n",
      "Topic 12: state policy states given topic note submodular markov reward agent\n",
      "Topic 13: time linear method learning information first work use term network\n",
      "Topic 14: data prior figure methods task dimensional well values based system\n",
      "Topic 15: loss bound let rank using result algorithms also assumption define\n",
      "Topic 16: tree kernel gaussian random true first training structure complexity paper\n",
      "Topic 17: model spike process neural matrix noise data sample cluster models\n",
      "Topic 18: using samples clustering distribution set different sets based label table\n",
      "Topic 19: noise log model also analysis neural function neurons likelihood sequence\n",
      "Topic 20: problem set theorem show proof following machine weak rate results\n"
     ]
    }
   ],
   "source": [
    "model.list_topics(vocabulary)"
   ]
  },
  {
   "cell_type": "code",
   "execution_count": null,
   "metadata": {
    "collapsed": true
   },
   "outputs": [],
   "source": []
  }
 ],
 "metadata": {
  "kernelspec": {
   "display_name": "Python (lv)",
   "language": "python",
   "name": "lavastore"
  },
  "language_info": {
   "codemirror_mode": {
    "name": "ipython",
    "version": 3
   },
   "file_extension": ".py",
   "mimetype": "text/x-python",
   "name": "python",
   "nbconvert_exporter": "python",
   "pygments_lexer": "ipython3",
   "version": "3.6.1"
  },
  "toc": {
   "nav_menu": {},
   "number_sections": true,
   "sideBar": true,
   "skip_h1_title": false,
   "toc_cell": false,
   "toc_position": {},
   "toc_section_display": "block",
   "toc_window_display": false
  }
 },
 "nbformat": 4,
 "nbformat_minor": 2
}
