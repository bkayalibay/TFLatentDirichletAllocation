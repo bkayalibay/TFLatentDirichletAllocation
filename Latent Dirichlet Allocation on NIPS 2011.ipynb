{
 "cells": [
  {
   "cell_type": "code",
   "execution_count": 1,
   "metadata": {
    "collapsed": false
   },
   "outputs": [
    {
     "name": "stderr",
     "output_type": "stream",
     "text": [
      "/home/bkayalibay/anaconda2/envs/lavastore/lib/python3.6/importlib/_bootstrap.py:205: RuntimeWarning: compiletime version 3.5 of module 'tensorflow.python.framework.fast_tensor_util' does not match runtime version 3.6\n",
      "  return f(*args, **kwds)\n"
     ]
    }
   ],
   "source": [
    "import lda\n",
    "import utils\n",
    "import matplotlib.pyplot as plt\n",
    "%matplotlib inline"
   ]
  },
  {
   "cell_type": "markdown",
   "metadata": {},
   "source": [
    "## Load data"
   ]
  },
  {
   "cell_type": "code",
   "execution_count": 2,
   "metadata": {
    "collapsed": true
   },
   "outputs": [],
   "source": [
    "data_dir = '/home/bkayalibay/Code/mlearning/self-study/lda/data'"
   ]
  },
  {
   "cell_type": "code",
   "execution_count": 3,
   "metadata": {
    "collapsed": false
   },
   "outputs": [],
   "source": [
    "documents, vocabulary = utils.load_data(data_dir)"
   ]
  },
  {
   "cell_type": "markdown",
   "metadata": {},
   "source": [
    "## Initialize LDA"
   ]
  },
  {
   "cell_type": "code",
   "execution_count": 4,
   "metadata": {
    "collapsed": true
   },
   "outputs": [],
   "source": [
    "K = 20"
   ]
  },
  {
   "cell_type": "code",
   "execution_count": 5,
   "metadata": {
    "collapsed": true
   },
   "outputs": [],
   "source": [
    "model = lda.LDA(n_topics=K)"
   ]
  },
  {
   "cell_type": "markdown",
   "metadata": {},
   "source": [
    "## Fit to data"
   ]
  },
  {
   "cell_type": "code",
   "execution_count": 6,
   "metadata": {
    "collapsed": true
   },
   "outputs": [],
   "source": [
    "n_update = 100\n",
    "batch_size = 32"
   ]
  },
  {
   "cell_type": "code",
   "execution_count": 7,
   "metadata": {
    "collapsed": false
   },
   "outputs": [
    {
     "name": "stderr",
     "output_type": "stream",
     "text": [
      "log p(x) >= -500141.9688: 100%|██████████| 100/100 [16:03<00:00,  8.79s/it]\n"
     ]
    }
   ],
   "source": [
    "losses = model.fit(\n",
    "    data=documents,\n",
    "    n_update=n_update,\n",
    "    batch_size=batch_size,\n",
    "    use_tqdm=True)"
   ]
  },
  {
   "cell_type": "code",
   "execution_count": 8,
   "metadata": {
    "collapsed": false
   },
   "outputs": [
    {
     "data": {
      "image/png": "[encoded data removed]",
      "text/plain": [
       "<matplotlib.figure.Figure at 0x7f92afafcb00>"
      ]
     },
     "metadata": {},
     "output_type": "display_data"
    }
   ],
   "source": [
    "plt.plot([l[0] for l in losses])\n",
    "plt.title('ELBO');"
   ]
  },
  {
   "cell_type": "markdown",
   "metadata": {},
   "source": [
    "## Examine topics"
   ]
  },
  {
   "cell_type": "code",
   "execution_count": 9,
   "metadata": {
    "collapsed": false
   },
   "outputs": [
    {
     "name": "stdout",
     "output_type": "stream",
     "text": [
      "\n",
      "Topic 1: state learning case number policy algorithm functions states space defined\n",
      "Topic 2: theorem analysis thus rate error empirical bounds terms hidden section\n",
      "Topic 3: linear algorithm accuracy optimization new based number different figure process\n",
      "Topic 4: image distribution also optimal case used task likelihood tasks using\n",
      "Topic 5: models figure model data time latent true clustering given single\n",
      "Topic 6: classification objects data classifier detection entropy multiple based feature part\n",
      "Topic 7: data model log algorithm object set based inference gaussian point\n",
      "Topic 8: matrix problem neurons use recognition estimate vector rank models performance\n",
      "Topic 9: features feature number representation used large work system greedy specific\n",
      "Topic 10: using parameters set convex distribution given solution images results terms\n",
      "Topic 11: learning use different tree approach let consider sampling work node\n",
      "Topic 12: sparse model noise norm sparsity method output group well receptive\n",
      "Topic 13: action sample order constant theorem variance information stochastic bias parameters\n",
      "Topic 14: bound problem algorithm kernel using setting best proof first following\n",
      "Topic 15: training model methods set label random probability may first rate\n",
      "Topic 16: graph gradient model descent see algorithms reference metric used systems\n",
      "Topic 17: regret cost order section categories space table large performance clustering\n",
      "Topic 18: time method results mean values fixed function compute second value\n",
      "Topic 19: function space also target number statistics neural data example error\n",
      "Topic 20: loss algorithm actions given online risk function decision complexity survival\n"
     ]
    }
   ],
   "source": [
    "model.list_topics(vocabulary)"
   ]
  },
  {
   "cell_type": "code",
   "execution_count": null,
   "metadata": {
    "collapsed": true
   },
   "outputs": [],
   "source": []
  }
 ],
 "metadata": {
  "kernelspec": {
   "display_name": "Python (lv)",
   "language": "python",
   "name": "lavastore"
  },
  "language_info": {
   "codemirror_mode": {
    "name": "ipython",
    "version": 3
   },
   "file_extension": ".py",
   "mimetype": "text/x-python",
   "name": "python",
   "nbconvert_exporter": "python",
   "pygments_lexer": "ipython3",
   "version": "3.6.1"
  },
  "toc": {
   "nav_menu": {},
   "number_sections": true,
   "sideBar": true,
   "skip_h1_title": false,
   "toc_cell": false,
   "toc_position": {},
   "toc_section_display": "block",
   "toc_window_display": false
  }
 },
 "nbformat": 4,
 "nbformat_minor": 2
}
