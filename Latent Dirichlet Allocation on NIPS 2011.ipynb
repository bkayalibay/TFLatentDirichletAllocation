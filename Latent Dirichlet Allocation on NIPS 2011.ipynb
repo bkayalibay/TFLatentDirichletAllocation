{
 "cells": [
  {
   "cell_type": "code",
   "execution_count": 1,
   "metadata": {
    "collapsed": false
   },
   "outputs": [
    {
     "name": "stderr",
     "output_type": "stream",
     "text": [
      "/home/bkayalibay/anaconda2/envs/lavastore/lib/python3.6/importlib/_bootstrap.py:205: RuntimeWarning: compiletime version 3.5 of module 'tensorflow.python.framework.fast_tensor_util' does not match runtime version 3.6\n",
      "  return f(*args, **kwds)\n"
     ]
    }
   ],
   "source": [
    "import lda\n",
    "import utils"
   ]
  },
  {
   "cell_type": "markdown",
   "metadata": {},
   "source": [
    "## Load data"
   ]
  },
  {
   "cell_type": "code",
   "execution_count": 2,
   "metadata": {
    "collapsed": true
   },
   "outputs": [],
   "source": [
    "data_dir = '/home/bkayalibay/Code/mlearning/self-study/lda/data'"
   ]
  },
  {
   "cell_type": "code",
   "execution_count": 3,
   "metadata": {
    "collapsed": false
   },
   "outputs": [],
   "source": [
    "documents, vocabulary = utils.load_data(data_dir)"
   ]
  },
  {
   "cell_type": "markdown",
   "metadata": {},
   "source": [
    "## Initialize LDA"
   ]
  },
  {
   "cell_type": "code",
   "execution_count": 4,
   "metadata": {
    "collapsed": true
   },
   "outputs": [],
   "source": [
    "K = 20"
   ]
  },
  {
   "cell_type": "code",
   "execution_count": 5,
   "metadata": {
    "collapsed": true
   },
   "outputs": [],
   "source": [
    "import importlib\n",
    "importlib.reload(lda)\n",
    "model = lda.LDA(n_topics=K)"
   ]
  },
  {
   "cell_type": "markdown",
   "metadata": {},
   "source": [
    "## Fit to data"
   ]
  },
  {
   "cell_type": "code",
   "execution_count": 6,
   "metadata": {
    "collapsed": true
   },
   "outputs": [],
   "source": [
    "n_update = 100\n",
    "batch_size = 16"
   ]
  },
  {
   "cell_type": "code",
   "execution_count": 7,
   "metadata": {
    "collapsed": false
   },
   "outputs": [
    {
     "name": "stderr",
     "output_type": "stream",
     "text": [
      "100%|██████████| 100/100 [06:58<00:00,  4.00s/it]\n"
     ]
    }
   ],
   "source": [
    "model.fit(\n",
    "    data=documents,\n",
    "    n_update=n_update,\n",
    "    batch_size=batch_size,\n",
    "    use_tqdm=True)"
   ]
  },
  {
   "cell_type": "markdown",
   "metadata": {},
   "source": [
    "## Examine topics"
   ]
  },
  {
   "cell_type": "code",
   "execution_count": 8,
   "metadata": {
    "collapsed": false
   },
   "outputs": [
    {
     "name": "stdout",
     "output_type": "stream",
     "text": [
      "\n",
      "Topic 1: latent objects likelihood information prior image see posterior terms dataset\n",
      "Topic 2: data points theorem results problem inference test mean random use\n",
      "Topic 3: number algorithm time optimization well variables best classification lemma space\n",
      "Topic 4: sparse convex lasso matrix error method trace size regularization sample\n",
      "Topic 5: set image object also linear distance bayesian space approach number\n",
      "Topic 6: model learning figure based consider algorithms task analysis computer set\n",
      "Topic 7: model graph state point recovery inference change used observation posterior\n",
      "Topic 8: set model function kernel following section algorithm note actions problems\n",
      "Topic 9: function models state functions value information time also matrix continuous\n",
      "Topic 10: using gradient setting given methods solution problem constraints optimal different\n",
      "Topic 11: features training feature classes example group examples use prediction classification\n",
      "Topic 12: bound probability let noise also stochastic bounds case small upper\n",
      "Topic 13: learning linear distribution using space work representation based since method\n",
      "Topic 14: model matrix set learning methods approach sets table use level\n",
      "Topic 15: policy search variance samples standard input network action agent reinforcement\n",
      "Topic 16: process different sampling used data machine hidden given cluster better\n",
      "Topic 17: case log error loss parameters gaussian mean theory learning distributions\n",
      "Topic 18: norm data let problem based dimensional show estimate distribution defined\n",
      "Topic 19: tree class node structure given multi data information model kernel\n",
      "Topic 20: algorithm first regret method function domain images sequence training clustering\n"
     ]
    }
   ],
   "source": [
    "model.list_topics(vocabulary)"
   ]
  },
  {
   "cell_type": "code",
   "execution_count": null,
   "metadata": {
    "collapsed": true
   },
   "outputs": [],
   "source": []
  }
 ],
 "metadata": {
  "kernelspec": {
   "display_name": "Python (lv)",
   "language": "python",
   "name": "lavastore"
  },
  "language_info": {
   "codemirror_mode": {
    "name": "ipython",
    "version": 3
   },
   "file_extension": ".py",
   "mimetype": "text/x-python",
   "name": "python",
   "nbconvert_exporter": "python",
   "pygments_lexer": "ipython3",
   "version": "3.6.1"
  },
  "toc": {
   "nav_menu": {},
   "number_sections": true,
   "sideBar": true,
   "skip_h1_title": false,
   "toc_cell": false,
   "toc_position": {},
   "toc_section_display": "block",
   "toc_window_display": false
  }
 },
 "nbformat": 4,
 "nbformat_minor": 2
}
