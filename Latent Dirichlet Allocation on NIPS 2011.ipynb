{
 "cells": [
  {
   "cell_type": "code",
   "execution_count": 1,
   "metadata": {
    "collapsed": false
   },
   "outputs": [
    {
     "name": "stderr",
     "output_type": "stream",
     "text": [
      "/home/bkayalibay/anaconda2/envs/lavastore/lib/python3.6/importlib/_bootstrap.py:205: RuntimeWarning: compiletime version 3.5 of module 'tensorflow.python.framework.fast_tensor_util' does not match runtime version 3.6\n",
      "  return f(*args, **kwds)\n"
     ]
    }
   ],
   "source": [
    "import lda\n",
    "import utils"
   ]
  },
  {
   "cell_type": "markdown",
   "metadata": {},
   "source": [
    "## Load data"
   ]
  },
  {
   "cell_type": "code",
   "execution_count": 2,
   "metadata": {
    "collapsed": true
   },
   "outputs": [],
   "source": [
    "data_dir = '/home/bkayalibay/Code/mlearning/self-study/lda/data'"
   ]
  },
  {
   "cell_type": "code",
   "execution_count": 3,
   "metadata": {
    "collapsed": true
   },
   "outputs": [],
   "source": [
    "documents, vocabulary = utils.load_data(data_dir)"
   ]
  },
  {
   "cell_type": "markdown",
   "metadata": {},
   "source": [
    "## Initialize LDA"
   ]
  },
  {
   "cell_type": "code",
   "execution_count": 4,
   "metadata": {
    "collapsed": true
   },
   "outputs": [],
   "source": [
    "D = len(documents)\n",
    "K = 20\n",
    "V = len(vocabulary)"
   ]
  },
  {
   "cell_type": "code",
   "execution_count": 25,
   "metadata": {
    "collapsed": true
   },
   "outputs": [],
   "source": [
    "import importlib\n",
    "importlib.reload(lda)\n",
    "model = lda.LDA(n_docs=D, n_topics=K, n_words=V)"
   ]
  },
  {
   "cell_type": "markdown",
   "metadata": {},
   "source": [
    "## Fit to data"
   ]
  },
  {
   "cell_type": "code",
   "execution_count": 26,
   "metadata": {
    "collapsed": true
   },
   "outputs": [],
   "source": [
    "n_update = 100\n",
    "batch_size = 1\n",
    "local_steps = 100"
   ]
  },
  {
   "cell_type": "code",
   "execution_count": 27,
   "metadata": {
    "collapsed": false
   },
   "outputs": [
    {
     "name": "stderr",
     "output_type": "stream",
     "text": [
      "100%|██████████| 100/100 [00:33<00:00,  3.49it/s]\n"
     ]
    }
   ],
   "source": [
    "model.variational_em(\n",
    "    data=documents, n_update=n_update,\n",
    "    batch_size=batch_size,\n",
    "    local_steps=local_steps,\n",
    "    use_tqdm=True)"
   ]
  },
  {
   "cell_type": "markdown",
   "metadata": {},
   "source": [
    "## Examine topics"
   ]
  },
  {
   "cell_type": "code",
   "execution_count": 28,
   "metadata": {
    "collapsed": false
   },
   "outputs": [
    {
     "name": "stdout",
     "output_type": "stream",
     "text": [
      "\n",
      "Topic 1: problem optimization machine formulation programming first steps since solve better\n",
      "Topic 2: information loss consider work maximum data results step graphical binary\n",
      "Topic 3: hence components exact articles unique variance work covariance top statistics\n",
      "Topic 4: function log thus proposed variance given assume approach computation method\n",
      "Topic 5: also learning linear use set large selection different prior computational\n",
      "Topic 6: learning function parameters neural different used figure likelihood states task\n",
      "Topic 7: number set using first figure algorithm feature method case problems\n",
      "Topic 8: models test local methods topics order model sparse large topic\n",
      "Topic 9: features experiments well approach parameters vector given based labels results\n",
      "Topic 10: algorithm bound section search results particular small model high used\n",
      "Topic 11: set noise samples problem estimate since algorithms systems fixed analysis\n",
      "Topic 12: elimination hence less large interpretation based small used component practice\n",
      "Topic 13: variable allows elimination articles fact component large small added protein\n",
      "Topic 14: let theorem bounds following number assumption show result theory rate\n",
      "Topic 15: time matrices vector activity column noise dual first step sparsity\n",
      "Topic 16: target time problem approach obtained step denote given rate following\n",
      "Topic 17: data model using based time gaussian input used fig work\n",
      "Topic 18: given regularization norm max class method result define real estimation\n",
      "Topic 19: sparse algorithm rank pca problem objective norm proposed lasso convergence\n",
      "Topic 20: matrix data low solution size convex optimization results relaxation dictionary\n"
     ]
    }
   ],
   "source": [
    "model.list_topics(vocabulary)"
   ]
  },
  {
   "cell_type": "code",
   "execution_count": null,
   "metadata": {
    "collapsed": true
   },
   "outputs": [],
   "source": []
  }
 ],
 "metadata": {
  "kernelspec": {
   "display_name": "Python (lv)",
   "language": "python",
   "name": "lavastore"
  },
  "language_info": {
   "codemirror_mode": {
    "name": "ipython",
    "version": 3
   },
   "file_extension": ".py",
   "mimetype": "text/x-python",
   "name": "python",
   "nbconvert_exporter": "python",
   "pygments_lexer": "ipython3",
   "version": "3.6.1"
  },
  "toc": {
   "nav_menu": {},
   "number_sections": true,
   "sideBar": true,
   "skip_h1_title": false,
   "toc_cell": false,
   "toc_position": {},
   "toc_section_display": "block",
   "toc_window_display": false
  }
 },
 "nbformat": 4,
 "nbformat_minor": 2
}
